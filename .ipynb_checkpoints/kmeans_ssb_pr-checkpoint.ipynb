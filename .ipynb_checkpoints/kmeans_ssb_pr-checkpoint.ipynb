{
 "cells": [
  {
   "cell_type": "code",
   "execution_count": 2,
   "id": "747de80f",
   "metadata": {},
   "outputs": [],
   "source": [
    "import matplotlib.pyplot as plt\n",
    "import numpy as np\n",
    "import csv\n",
    "from sklearn.metrics import pairwise_distances_argmin\n",
    "from collections import Counter, defaultdict"
   ]
  },
  {
   "cell_type": "code",
   "execution_count": 3,
   "id": "63e6a5e1",
   "metadata": {},
   "outputs": [],
   "source": [
    "# Function to read .csv database and convert to variables.\n",
    "\n",
    "def read_csv():\n",
    "    x = []\n",
    "    y = []\n",
    "    players = []\n",
    "    x_label = \"Average Placement\"\n",
    "    y_label = \"Tournaments Played\"\n",
    "    with open('playerDB.csv', encoding='utf-8') as csvfile:\n",
    "        reader = csv.reader(csvfile, delimiter=',')\n",
    "        header = 0\n",
    "        for row in reader:\n",
    "            if header == 0:\n",
    "                header +=1\n",
    "            else:\n",
    "                x.append(float(row[1]) / float(row[2]))\n",
    "                y.append(float(row[2]))\n",
    "                players.append(row[0])\n",
    "    return x, y, x_label, y_label, players"
   ]
  },
  {
   "cell_type": "code",
   "execution_count": 4,
   "id": "183021fa",
   "metadata": {
    "scrolled": true
   },
   "outputs": [],
   "source": [
    "# Assign values to variables\n",
    "\n",
    "x, y, x_label, y_label, players = read_csv()"
   ]
  },
  {
   "cell_type": "code",
   "execution_count": 6,
   "id": "a28232dc",
   "metadata": {},
   "outputs": [],
   "source": [
    "# Convert our (x,y) to paired array structure\n",
    "\n",
    "X = np.vstack((x, y)).T"
   ]
  },
  {
   "cell_type": "code",
   "execution_count": 7,
   "id": "a4e57914",
   "metadata": {},
   "outputs": [
    {
     "data": {
      "text/plain": [
       "array([[ 13.  ,   2.  ],\n",
       "       [ 21.25,   4.  ],\n",
       "       [  3.  ,   1.  ],\n",
       "       ...,\n",
       "       [513.  ,   1.  ],\n",
       "       [513.  ,   1.  ],\n",
       "       [513.  ,   1.  ]])"
      ]
     },
     "execution_count": 7,
     "metadata": {},
     "output_type": "execute_result"
    }
   ],
   "source": [
    "# Print header of our array\n",
    "\n",
    "X"
   ]
  },
  {
   "cell_type": "code",
   "execution_count": 8,
   "id": "cc22a25a",
   "metadata": {},
   "outputs": [
    {
     "ename": "NameError",
     "evalue": "name 'matplotlib' is not defined",
     "output_type": "error",
     "traceback": [
      "\u001b[1;31m---------------------------------------------------------------------------\u001b[0m",
      "\u001b[1;31mNameError\u001b[0m                                 Traceback (most recent call last)",
      "\u001b[1;32m~\\AppData\\Local\\Temp/ipykernel_4640/187151586.py\u001b[0m in \u001b[0;36m<module>\u001b[1;34m\u001b[0m\n\u001b[0;32m      1\u001b[0m \u001b[1;31m# Draw un-clustered graph\u001b[0m\u001b[1;33m\u001b[0m\u001b[1;33m\u001b[0m\u001b[0m\n\u001b[0;32m      2\u001b[0m \u001b[1;33m\u001b[0m\u001b[0m\n\u001b[1;32m----> 3\u001b[1;33m \u001b[0mmatplotlib\u001b[0m\u001b[1;33m.\u001b[0m\u001b[0mpyplot\u001b[0m\u001b[1;33m.\u001b[0m\u001b[0mtitle\u001b[0m\u001b[1;33m(\u001b[0m\u001b[1;34m'SSBU Player Consistency'\u001b[0m\u001b[1;33m,\u001b[0m \u001b[0mloc\u001b[0m\u001b[1;33m=\u001b[0m\u001b[1;34m'center'\u001b[0m\u001b[1;33m)\u001b[0m\u001b[1;33m\u001b[0m\u001b[1;33m\u001b[0m\u001b[0m\n\u001b[0m\u001b[0;32m      4\u001b[0m \u001b[0mplt\u001b[0m\u001b[1;33m.\u001b[0m\u001b[0mxlabel\u001b[0m\u001b[1;33m(\u001b[0m\u001b[0mx_label\u001b[0m\u001b[1;33m)\u001b[0m\u001b[1;33m\u001b[0m\u001b[1;33m\u001b[0m\u001b[0m\n\u001b[0;32m      5\u001b[0m \u001b[0mplt\u001b[0m\u001b[1;33m.\u001b[0m\u001b[0mylabel\u001b[0m\u001b[1;33m(\u001b[0m\u001b[0my_label\u001b[0m\u001b[1;33m)\u001b[0m\u001b[1;33m\u001b[0m\u001b[1;33m\u001b[0m\u001b[0m\n",
      "\u001b[1;31mNameError\u001b[0m: name 'matplotlib' is not defined"
     ]
    }
   ],
   "source": [
    "# Draw un-clustered graph\n",
    "\n",
    "plt.title('SSBU Player Consistency', loc='center')\n",
    "plt.xlabel(x_label)\n",
    "plt.ylabel(y_label)\n",
    "plt.scatter(x, y, color='#76c2b4')\n",
    "plt.show()"
   ]
  },
  {
   "cell_type": "code",
   "execution_count": null,
   "id": "4aca7e74",
   "metadata": {},
   "outputs": [],
   "source": [
    "# Function to find clusters using SciKit-learn K-Means Clustering\n",
    "\n",
    "def find_clusters(X, n_clusters, rseed=2):\n",
    "    rng = np.random.RandomState(rseed)\n",
    "    # Get n amount of random centroids\n",
    "    i = rng.permutation(X.shape[0])[:n_clusters]\n",
    "    # Save initial centroids\n",
    "    centers = X[i]\n",
    "\n",
    "    print(\"\\nLook for converged centroids:\")\n",
    "    # Loops until centroids are found\n",
    "    while True:\n",
    "        # Assign cluster labels based on closest center\n",
    "        labels = pairwise_distances_argmin(X, centers)\n",
    "\n",
    "        # Find new centers from means of points from distance\n",
    "        new_centers = np.array([X[labels == i].mean(0) for i in\n",
    "        range(n_clusters)])\n",
    "\n",
    "        # Check for convergence. If old centers == new centers\n",
    "        # Change to for loop if we want only a set amount of iterations\n",
    "        if np.all(centers == new_centers):\n",
    "            break\n",
    "        centers = new_centers\n",
    "\n",
    "        # Print iterated centroids\n",
    "        print(centers)\n",
    "        print()\n",
    "\n",
    "    return centers, labels"
   ]
  },
  {
   "cell_type": "code",
   "execution_count": null,
   "id": "9c2ff168",
   "metadata": {},
   "outputs": [],
   "source": [
    "# Set number of clusters\n",
    "\n",
    "clust_num = 8"
   ]
  },
  {
   "cell_type": "code",
   "execution_count": null,
   "id": "5c469cba",
   "metadata": {},
   "outputs": [],
   "source": [
    "# Get clustered data and \"print\" to graph\n",
    "\n",
    "centers, labels = find_clusters(X, clust_num)    # Can give random seed, or be defaulted\n",
    "plt.scatter(X[:, 0], X[:, 1], c=labels, s=50, cmap='plasma')\n",
    "plt.title('K-Means Clustering of Tiers of Consistent Players')\n",
    "plt.xlabel(x_label)\n",
    "plt.ylabel(y_label)\n",
    "plt.show()"
   ]
  },
  {
   "cell_type": "code",
   "execution_count": null,
   "id": "c39fecab",
   "metadata": {},
   "outputs": [],
   "source": [
    "# Print general information on tiers and their players\n",
    "\n",
    "print(\"\\nNumber of players in each tier:\")\n",
    "print(Counter(labels))\n",
    "\n",
    "# Get cluster indices\n",
    "clusters_indices = defaultdict(list)\n",
    "for index, c in enumerate(labels):\n",
    "    clusters_indices[c].append(index)\n",
    "\n",
    "# Print players in each tier, their stats, and the tier average\n",
    "x = 0 # Select tier, from 0 to clust_num - 1\n",
    "print(\"\\Tier \" + str(x + 1))\n",
    "print(\"----------\")\n",
    "for i in clusters_indices[x]:\n",
    "    print(players[i])\n",
    "print(\"----------\")\n",
    "print(\"Mean average placement:\", centers[x][0])\n",
    "print(\"Mean tournaments played:\", centers[x][1])"
   ]
  }
 ],
 "metadata": {
  "kernelspec": {
   "display_name": "Python 3 (ipykernel)",
   "language": "python",
   "name": "python3"
  },
  "language_info": {
   "codemirror_mode": {
    "name": "ipython",
    "version": 3
   },
   "file_extension": ".py",
   "mimetype": "text/x-python",
   "name": "python",
   "nbconvert_exporter": "python",
   "pygments_lexer": "ipython3",
   "version": "3.9.7"
  }
 },
 "nbformat": 4,
 "nbformat_minor": 5
}
